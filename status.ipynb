{
 "cells": [
  {
   "cell_type": "markdown",
   "id": "b6870acb",
   "metadata": {},
   "source": [
    "# Execution Statistics\n",
    "\n",
    "This table contains the latest execution statistics.\n",
    "\n",
    "[](https://dle.quantecon.org/cattle_cycles.html)[](https://dle.quantecon.org/cons_news.html)[](https://dle.quantecon.org/cross_product_trick.html)[](https://dle.quantecon.org/growth_in_dles.html)[](https://dle.quantecon.org/hs_invertibility_example.html)[](https://dle.quantecon.org/hs_recursive_models.html)[](https://dle.quantecon.org/intro.html)[](https://dle.quantecon.org/irfs_in_hall_model.html)[](https://dle.quantecon.org/kalman.html)[](https://dle.quantecon.org/kalman_2.html)[](https://dle.quantecon.org/lagrangian_lqdp.html)[](https://dle.quantecon.org/linear_models.html)[](https://dle.quantecon.org/lq_inventories.html)[](https://dle.quantecon.org/lqcontrol.html)[](https://dle.quantecon.org/lqramsey.html)[](https://dle.quantecon.org/lucas_asset_pricing_dles.html)[](https://dle.quantecon.org/markov_jump_lq.html)[](https://dle.quantecon.org/muth_kalman.html)[](https://dle.quantecon.org/perm_income.html)[](https://dle.quantecon.org/perm_income_cons.html)[](https://dle.quantecon.org/permanent_income_dles.html)[](https://dle.quantecon.org/rosen_schooling_model.html)[](https://dle.quantecon.org/smoothing.html)[](https://dle.quantecon.org/smoothing_tax.html)[](https://dle.quantecon.org/.html)[](https://dle.quantecon.org/tax_smoothing_1.html)[](https://dle.quantecon.org/tax_smoothing_2.html)[](https://dle.quantecon.org/tax_smoothing_3.html)[](https://dle.quantecon.org/troubleshooting.html)[](https://dle.quantecon.org/zreferences.html)|Document|Modified|Method|Run Time (s)|Status|\n",
    "|:------------------:|:------------------:|:------------------:|:------------------:|:------------------:|\n",
    "|cattle_cycles|2024-01-30 02:42|cache|11.12|✅|\n",
    "|cons_news|2024-01-30 02:42|cache|6.39|✅|\n",
    "|cross_product_trick|2024-01-30 02:42|cache|1.0|✅|\n",
    "|growth_in_dles|2024-01-30 02:42|cache|6.05|✅|\n",
    "|hs_invertibility_example|2024-01-30 02:43|cache|6.09|✅|\n",
    "|hs_recursive_models|2024-01-30 02:43|cache|1.0|✅|\n",
    "|intro|2024-01-30 02:43|cache|1.0|✅|\n",
    "|irfs_in_hall_model|2024-01-30 02:43|cache|5.98|✅|\n",
    "|kalman|2024-01-30 02:43|cache|7.49|✅|\n",
    "|kalman_2|2024-01-30 02:43|cache|23.44|✅|\n",
    "|lagrangian_lqdp|2024-01-30 02:44|cache|21.35|✅|\n",
    "|linear_models|2024-01-30 02:44|cache|7.2|✅|\n",
    "|lq_inventories|2024-01-30 02:44|cache|13.37|✅|\n",
    "|lqcontrol|2024-01-30 02:44|cache|6.34|✅|\n",
    "|lqramsey|2024-01-30 02:44|cache|7.28|✅|\n",
    "|lucas_asset_pricing_dles|2024-01-30 02:44|cache|5.74|✅|\n",
    "|markov_jump_lq|2024-01-30 02:45|cache|74.65|✅|\n",
    "|muth_kalman|2024-01-30 02:46|cache|6.14|✅|\n",
    "|perm_income|2024-01-30 02:46|cache|3.33|✅|\n",
    "|perm_income_cons|2024-01-30 02:46|cache|7.25|✅|\n",
    "|permanent_income_dles|2024-01-30 02:46|cache|5.97|✅|\n",
    "|rosen_schooling_model|2024-01-30 02:46|cache|6.07|✅|\n",
    "|smoothing|2024-01-30 02:46|cache|6.31|✅|\n",
    "|smoothing_tax|2024-01-30 02:46|cache|8.93|✅|\n",
    "|status|2024-01-30 02:43|cache|1.0|✅|\n",
    "|tax_smoothing_1|2024-01-30 02:46|cache|12.32|✅|\n",
    "|tax_smoothing_2|2024-01-30 02:46|cache|6.63|✅|\n",
    "|tax_smoothing_3|2024-01-30 02:47|cache|6.47|✅|\n",
    "|troubleshooting|2024-01-30 02:43|cache|1.0|✅|\n",
    "|zreferences|2024-01-30 02:43|cache|1.0|✅|\n",
    "\n",
    "<a id='status-machine-details'></a>\n",
    "These lectures are built on `linux` instances through `github actions` so are\n",
    "executed using the following [hardware specifications](https://docs.github.com/en/actions/reference/specifications-for-github-hosted-runners#supported-runners-and-hardware-resources)"
   ]
  }
 ],
 "metadata": {
  "date": 1706583595.791268,
  "filename": "status.md",
  "kernelspec": {
   "display_name": "Python",
   "language": "python3",
   "name": "python3"
  },
  "title": "Execution Statistics"
 },
 "nbformat": 4,
 "nbformat_minor": 5
}