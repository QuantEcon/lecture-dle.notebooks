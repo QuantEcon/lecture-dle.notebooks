{
 "cells": [
  {
   "cell_type": "markdown",
   "id": "5e3da08e",
   "metadata": {},
   "source": [
    "# Execution Statistics\n",
    "\n",
    "This table contains the latest execution statistics.\n",
    "\n",
    "[](https://dle.quantecon.org/cattle_cycles.html)[](https://dle.quantecon.org/cons_news.html)[](https://dle.quantecon.org/cross_product_trick.html)[](https://dle.quantecon.org/growth_in_dles.html)[](https://dle.quantecon.org/hs_invertibility_example.html)[](https://dle.quantecon.org/hs_recursive_models.html)[](https://dle.quantecon.org/intro.html)[](https://dle.quantecon.org/irfs_in_hall_model.html)[](https://dle.quantecon.org/kalman.html)[](https://dle.quantecon.org/kalman_2.html)[](https://dle.quantecon.org/lagrangian_lqdp.html)[](https://dle.quantecon.org/linear_models.html)[](https://dle.quantecon.org/lq_inventories.html)[](https://dle.quantecon.org/lqcontrol.html)[](https://dle.quantecon.org/lqramsey.html)[](https://dle.quantecon.org/lucas_asset_pricing_dles.html)[](https://dle.quantecon.org/markov_jump_lq.html)[](https://dle.quantecon.org/muth_kalman.html)[](https://dle.quantecon.org/perm_income.html)[](https://dle.quantecon.org/perm_income_cons.html)[](https://dle.quantecon.org/permanent_income_dles.html)[](https://dle.quantecon.org/rosen_schooling_model.html)[](https://dle.quantecon.org/smoothing.html)[](https://dle.quantecon.org/smoothing_tax.html)[](https://dle.quantecon.org/.html)[](https://dle.quantecon.org/tax_smoothing_1.html)[](https://dle.quantecon.org/tax_smoothing_2.html)[](https://dle.quantecon.org/tax_smoothing_3.html)[](https://dle.quantecon.org/troubleshooting.html)[](https://dle.quantecon.org/zreferences.html)|Document|Modified|Method|Run Time (s)|Status|\n",
    "|:------------------:|:------------------:|:------------------:|:------------------:|:------------------:|\n",
    "|cattle_cycles|2024-05-01 02:00|cache|10.04|✅|\n",
    "|cons_news|2024-05-01 02:00|cache|5.89|✅|\n",
    "|cross_product_trick|2024-05-01 02:00|cache|0.85|✅|\n",
    "|growth_in_dles|2024-05-01 02:00|cache|5.44|✅|\n",
    "|hs_invertibility_example|2024-05-01 02:00|cache|5.59|✅|\n",
    "|hs_recursive_models|2024-05-01 02:00|cache|0.96|✅|\n",
    "|intro|2024-05-01 02:00|cache|0.96|✅|\n",
    "|irfs_in_hall_model|2024-05-01 02:00|cache|5.39|✅|\n",
    "|kalman|2024-05-01 02:00|cache|7.04|✅|\n",
    "|kalman_2|2024-05-01 02:01|cache|22.73|✅|\n",
    "|lagrangian_lqdp|2024-05-01 02:01|cache|19.62|✅|\n",
    "|linear_models|2024-05-01 02:01|cache|6.78|✅|\n",
    "|lq_inventories|2024-05-01 02:01|cache|12.37|✅|\n",
    "|lqcontrol|2024-05-01 02:02|cache|5.68|✅|\n",
    "|lqramsey|2024-05-01 02:02|cache|6.87|✅|\n",
    "|lucas_asset_pricing_dles|2024-05-01 02:02|cache|5.36|✅|\n",
    "|markov_jump_lq|2024-05-01 02:03|cache|73.45|✅|\n",
    "|muth_kalman|2024-05-01 02:03|cache|5.55|✅|\n",
    "|perm_income|2024-05-01 02:03|cache|3.12|✅|\n",
    "|perm_income_cons|2024-05-01 02:03|cache|6.63|✅|\n",
    "|permanent_income_dles|2024-05-01 02:03|cache|5.49|✅|\n",
    "|rosen_schooling_model|2024-05-01 02:03|cache|5.25|✅|\n",
    "|smoothing|2024-05-01 02:04|cache|5.58|✅|\n",
    "|smoothing_tax|2024-05-01 02:04|cache|8.09|✅|\n",
    "|status|2024-05-01 02:00|cache|0.96|✅|\n",
    "|tax_smoothing_1|2024-05-01 02:04|cache|11.71|✅|\n",
    "|tax_smoothing_2|2024-05-01 02:04|cache|6.07|✅|\n",
    "|tax_smoothing_3|2024-05-01 02:04|cache|5.96|✅|\n",
    "|troubleshooting|2024-05-01 02:00|cache|0.96|✅|\n",
    "|zreferences|2024-05-01 02:00|cache|0.96|✅|\n",
    "\n",
    "<a id='status-machine-details'></a>\n",
    "These lectures are built on `linux` instances through `github actions` so are\n",
    "executed using the following [hardware specifications](https://docs.github.com/en/actions/reference/specifications-for-github-hosted-runners#supported-runners-and-hardware-resources)"
   ]
  }
 ],
 "metadata": {
  "date": 1714699050.3806982,
  "filename": "status.md",
  "kernelspec": {
   "display_name": "Python",
   "language": "python3",
   "name": "python3"
  },
  "title": "Execution Statistics"
 },
 "nbformat": 4,
 "nbformat_minor": 5
}