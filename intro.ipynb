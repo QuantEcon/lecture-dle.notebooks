{
 "cells": [
  {
   "cell_type": "markdown",
   "id": "4ea269c5",
   "metadata": {},
   "source": [
    "# Dynamic Linear Economies\n",
    "\n",
    "This website presents a set of lectures on dynamic linear economies and tools needed for this this class of economic models."
   ]
  },
  {
   "cell_type": "markdown",
   "id": "a00c6b37",
   "metadata": {},
   "source": [
    "# Kalman Filter\n",
    "\n",
    "- [A First Look at the Kalman Filter](https://dle.quantecon.org/kalman.html)\n",
    "- [Another Look at the Kalman Filter](https://dle.quantecon.org/kalman_2.html)\n",
    "- [Reverse Engineering a la Muth](https://dle.quantecon.org/muth_kalman.html)"
   ]
  },
  {
   "cell_type": "markdown",
   "id": "8d56eed7",
   "metadata": {},
   "source": [
    "# LQ Control\n",
    "\n",
    "- [LQ Control: Foundations](https://dle.quantecon.org/lqcontrol.html)\n",
    "- [Lagrangian for LQ Control](https://dle.quantecon.org/lagrangian_lqdp.html)\n",
    "- [Eliminating Cross Products](https://dle.quantecon.org/cross_product_trick.html)\n",
    "- [The Permanent Income Model](https://dle.quantecon.org/perm_income.html)\n",
    "- [Permanent Income II: LQ Techniques](https://dle.quantecon.org/perm_income_cons.html)\n",
    "- [Production Smoothing via Inventories](https://dle.quantecon.org/lq_inventories.html)\n",
    "- [Information and Consumption Smoothing](https://dle.quantecon.org/cons_news.html)\n",
    "- [Consumption Smoothing with Complete and Incomplete Markets](https://dle.quantecon.org/smoothing.html)\n",
    "- [Tax Smoothing with Complete and Incomplete Markets](https://dle.quantecon.org/smoothing_tax.html)\n",
    "- [Markov Jump Linear Quadratic Dynamic Programming](https://dle.quantecon.org/markov_jump_lq.html)\n",
    "- [How to Pay for a War: Part 1](https://dle.quantecon.org/tax_smoothing_1.html)\n",
    "- [How to Pay for a War: Part 2](https://dle.quantecon.org/tax_smoothing_2.html)\n",
    "- [How to Pay for a War: Part 3](https://dle.quantecon.org/tax_smoothing_3.html)\n",
    "- [Optimal Taxation in an LQ Economy](https://dle.quantecon.org/lqramsey.html)"
   ]
  },
  {
   "cell_type": "markdown",
   "id": "84f16644",
   "metadata": {},
   "source": [
    "# Dynamic Linear Economies\n",
    "\n",
    "- [Linear State Space Models](https://dle.quantecon.org/linear_models.html)\n",
    "- [Recursive Models of Dynamic Linear Economies](https://dle.quantecon.org/hs_recursive_models.html)\n",
    "- [Growth in Dynamic Linear Economies](https://dle.quantecon.org/growth_in_dles.html)\n",
    "- [Lucas Asset Pricing Using DLE](https://dle.quantecon.org/lucas_asset_pricing_dles.html)\n",
    "- [IRFs in Hall Models](https://dle.quantecon.org/irfs_in_hall_model.html)\n",
    "- [Permanent Income Model using the DLE Class](https://dle.quantecon.org/permanent_income_dles.html)\n",
    "- [Rosen Schooling Model](https://dle.quantecon.org/rosen_schooling_model.html)\n",
    "- [Cattle Cycles](https://dle.quantecon.org/cattle_cycles.html)\n",
    "- [Shock Non Invertibility](https://dle.quantecon.org/hs_invertibility_example.html)"
   ]
  },
  {
   "cell_type": "markdown",
   "id": "9998b2aa",
   "metadata": {},
   "source": [
    "# Other\n",
    "\n",
    "- [Troubleshooting](https://dle.quantecon.org/troubleshooting.html)\n",
    "- [References](https://dle.quantecon.org/zreferences.html)\n",
    "- [Execution Statistics](https://dle.quantecon.org/status.html)"
   ]
  }
 ],
 "metadata": {
  "date": 1706583594.8723567,
  "filename": "intro.md",
  "kernelspec": {
   "display_name": "Python",
   "language": "python3",
   "name": "python3"
  },
  "title": "Dynamic Linear Economies"
 },
 "nbformat": 4,
 "nbformat_minor": 5
}